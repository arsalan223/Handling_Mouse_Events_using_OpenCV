{
 "cells": [
  {
   "cell_type": "code",
   "execution_count": 2,
   "metadata": {},
   "outputs": [],
   "source": [
    "import cv2 as cv\n",
    "import numpy as np"
   ]
  },
  {
   "cell_type": "markdown",
   "metadata": {},
   "source": [
    "# Draw Line (R-click + drag + release) & BGR Values (on L-click)"
   ]
  },
  {
   "cell_type": "code",
   "execution_count": 20,
   "metadata": {},
   "outputs": [],
   "source": [
    "img = cv.imread('butterfly.jpg')\n",
    "a = None #defining global variables to be manipulate & use in function\n",
    "b = None\n",
    "\n",
    "#function for handling different types of mouse events (for more events 'cv.EVENT_' then press Tab)\n",
    "def draw_line (event, x, y, flags, param): #will receive arguments from 'cv.setMouseCallBack()' function\n",
    "    #Handles left button click\n",
    "    if event == cv.EVENT_LBUTTONDOWN: #pass x,y coordinates to a,b(global variables) and prints x,y values on x,y position\n",
    "        global a #to manipulate global variable 'a'\n",
    "        a = x #to assign value to global variable\n",
    "        global b\n",
    "        b = y\n",
    "        text = str(x)+', '+str(y) #making string to pass in cv.putText()\n",
    "        cv.putText(img, text, (x, y), cv.FONT_HERSHEY_SIMPLEX, 0.8, (0,255,0), 2)\n",
    "        cv.imshow('image', img) #must have in every 'if' statement\n",
    "        \n",
    "    #Handles left button release    \n",
    "    if event == cv.EVENT_LBUTTONUP: #receives a,b as starting point of 'cv.line()', creates line and prints x,y values on release of left-button\n",
    "        cv.line(img, (a, b), (x, y), (255,0,0),3) #a,b received from above 'if' statement as global variable\n",
    "        text = str(x)+', '+str(y)\n",
    "        cv.putText(img, text, (x, y), cv.FONT_HERSHEY_SIMPLEX, 0.8, (0,255,0), 2)\n",
    "        cv.imshow('image', img)\n",
    "    \n",
    "    #Handles right button click\n",
    "    if event == cv.EVENT_RBUTTONDOWN: #prints BGR values on right click\n",
    "        blue = img[y, x, 0] #getting blue value on x,y coordinates, Rows=y=axis 0 || Columns=x=axis 1\n",
    "        green = img[y, x, 1]\n",
    "        red = img[y, x, 2]\n",
    "        text = str(blue)+','+str(green)+','+str(red)\n",
    "        cv.putText(img, text, (x, y), cv.FONT_HERSHEY_SIMPLEX, 1, (0,255,0), 2)\n",
    "        cv.imshow('image', img)\n",
    "        \n",
    "\n",
    "\n",
    "cv.imshow('image', img) #must have to show initial image\n",
    "cv.setMouseCallback('image', draw_line) #invokes 'draw_line' function with required arguments (i.e: event-type, x & y coordinates and etc)\n",
    "cv.waitKey(0)\n",
    "cv.destroyAllWindows()"
   ]
  },
  {
   "cell_type": "markdown",
   "metadata": {},
   "source": [
    "# Point Following Line"
   ]
  },
  {
   "cell_type": "code",
   "execution_count": 29,
   "metadata": {},
   "outputs": [],
   "source": [
    "img = cv.imread('butterfly.jpg')\n",
    "\n",
    "points = []  \n",
    "def point_following_line (event, x, y, flags, params):\n",
    "    if event == cv.EVENT_LBUTTONDOWN:\n",
    "        cv.circle(img, (x, y), 5, (0,0,255), -1) #to show clicked position\n",
    "        points.append((x, y)) #saving points in a list as tuple (e.g: (20, 30))\n",
    "        cv.imshow('image', img)\n",
    "        if len(points) >= 2: #if 2 or more points then draw line\n",
    "            cv.line(img, points[-2], points[-1], (255,0,0), 3) #draw line using last 2 points\n",
    "            cv.imshow('image', img)\n",
    "\n",
    "         \n",
    "cv.imshow('image', img)\n",
    "cv.setMouseCallback('image', point_following_line)\n",
    "cv.waitKey(0)\n",
    "cv.destroyAllWindows()"
   ]
  },
  {
   "cell_type": "markdown",
   "metadata": {},
   "source": [
    "# Color Picker"
   ]
  },
  {
   "cell_type": "code",
   "execution_count": 28,
   "metadata": {},
   "outputs": [
    {
     "name": "stdout",
     "output_type": "stream",
     "text": [
      "[(97, 89, 176), (231, 242, 232), (11, 8, 10), (28, 48, 189), (9, 115, 46), (81, 47, 71), (27, 26, 16)]\n"
     ]
    }
   ],
   "source": [
    "img = cv.imread('butterfly.jpg')\n",
    "selected_colors = []\n",
    "npimg = np.zeros((500, 400, 3), np.uint8) #here y=500 (rows/axis 0) & x=400 (columns/axis 1), dtype must be 'np.uint8' otherwise different results. A uint8 data type contains all whole numbers from 0 to 255.\n",
    "\n",
    "def color_picker (event, x, y, flags, params):\n",
    "    if event == cv.EVENT_LBUTTONDOWN:\n",
    "        blue = img[y, x, 0]\n",
    "        green = img[y, x, 1]\n",
    "        red = img[y, x, 2]\n",
    "        npimg[:] = [blue, green, red] #will set all the pixel values (received from x, y coordinates as BGR)\n",
    "        #putting text(BGR Values) on 'npimg' frame\n",
    "        text = str(blue)+', '+str(green)+', '+str(red)\n",
    "        if int(blue)+int(green)+int(red) >= 382: #255/2=127.5, 127.5x3=382.5=382 mean value to set color Black or White\n",
    "            text_color = (0,0,0)\n",
    "        else:\n",
    "            text_color = (255,255,255)\n",
    "        cv.putText(npimg, text, (10, 30), cv.FONT_HERSHEY_SIMPLEX, 1, text_color,2)\n",
    "        \n",
    "        cv.imshow('npimg', npimg)\n",
    "        selected_colors.append((blue,green,red))\n",
    "    \n",
    "cv.imshow('img', img)\n",
    "cv.setMouseCallback('img', color_picker)\n",
    "cv.waitKey(0)\n",
    "cv.destroyAllWindows()\n",
    "print(selected_colors)"
   ]
  },
  {
   "cell_type": "markdown",
   "metadata": {},
   "source": [
    "## *Experiment"
   ]
  },
  {
   "cell_type": "code",
   "execution_count": 35,
   "metadata": {},
   "outputs": [],
   "source": [
    "#this color viewer will show selected colors (from above code) and work like whatsApp status viewer (a bit) \n",
    "#change color by clicking right-half to forward and left-half to backward \n",
    "newimg = np.zeros((500,500,3), np.uint8)\n",
    "selector = -1\n",
    "def selected_color_viewer(event, x, y, flags, params):\n",
    "    if event == cv.EVENT_LBUTTONDOWN:\n",
    "        global selector\n",
    "        if x >= 250 and selector < len(selected_colors)-1:\n",
    "            selector += 1 #selector = selector + 1\n",
    "            newimg [:] = selected_colors[selector]\n",
    "            cv.imshow('new_image', newimg)\n",
    "            \n",
    "        elif x < 250 and selector > 0:\n",
    "            selector -= 1 #selector = selector - 1\n",
    "            newimg [:] = selected_colors[selector]\n",
    "            cv.imshow('new_image', newimg)\n",
    "            \n",
    "cv.imshow('new_image', newimg)\n",
    "cv.setMouseCallback('new_image', selected_color_viewer)\n",
    "cv.waitKey(0)\n",
    "cv.destroyAllWindows()"
   ]
  },
  {
   "cell_type": "code",
   "execution_count": null,
   "metadata": {},
   "outputs": [],
   "source": []
  }
 ],
 "metadata": {
  "kernelspec": {
   "display_name": "Python 3",
   "language": "python",
   "name": "python3"
  },
  "language_info": {
   "codemirror_mode": {
    "name": "ipython",
    "version": 3
   },
   "file_extension": ".py",
   "mimetype": "text/x-python",
   "name": "python",
   "nbconvert_exporter": "python",
   "pygments_lexer": "ipython3",
   "version": "3.8.1"
  }
 },
 "nbformat": 4,
 "nbformat_minor": 4
}
