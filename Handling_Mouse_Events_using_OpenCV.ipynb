{
 "cells": [
  {
   "cell_type": "code",
   "execution_count": 2,
   "metadata": {},
   "outputs": [],
   "source": [
    "import cv2 as cv"
   ]
  },
  {
   "cell_type": "markdown",
   "metadata": {},
   "source": [
    "# Draw Line (R-click + drag + release) & BGR Values (on L-click)"
   ]
  },
  {
   "cell_type": "code",
   "execution_count": 7,
   "metadata": {},
   "outputs": [],
   "source": [
    "img = cv.imread('butterfly.jpg')\n",
    "a = None #defining global variables to be manipulate & use in function\n",
    "b = None\n",
    "\n",
    "#function for handling different types of mouse events (for more events 'cv.EVENT_' then press Tab)\n",
    "def draw_line (event, x, y, flags, param): #will receive arguments from 'cv.setMouseCallBack()' function\n",
    "    #Handles left button click\n",
    "    if event == cv.EVENT_LBUTTONDOWN: #pass x,y coordinates to a,b(global variables) and prints x,y values on x,y position\n",
    "        global a #to manipulate global variable 'a'\n",
    "        a = x #to assign value to global variable\n",
    "        global b\n",
    "        b = y\n",
    "        text = str(x)+', '+str(y) #making string to pass in cv.putText()\n",
    "        cv.putText(img, text, (x, y), cv.FONT_HERSHEY_SIMPLEX, 0.8, (0,255,0), 2)\n",
    "        cv.imshow('image', img) #must have in every 'if' statement\n",
    "        \n",
    "    #Handles left button release    \n",
    "    if event == cv.EVENT_LBUTTONUP: #receives a,b as starting point of 'cv.line()', creates line and prints x,y values on release of left-button\n",
    "        cv.line(img, (a, b), (x, y), (255,0,0),3) #a,b received from above 'if' statement as global variable\n",
    "        text = str(x)+', '+str(y)\n",
    "        cv.putText(img, text, (x, y), cv.FONT_HERSHEY_SIMPLEX, 0.8, (0,255,0), 2)\n",
    "        cv.imshow('image', img)\n",
    "    \n",
    "    #Handles right button click\n",
    "    if event == cv.EVENT_RBUTTONDOWN: #prints BGR values on right click\n",
    "        blue = img[x, y, 0] #getting blue value on x,y coordinates\n",
    "        green = img[x, y, 1]\n",
    "        red = img[x, y, 2]\n",
    "        text = str(blue)+','+str(green)+','+str(red)\n",
    "        cv.putText(img, text, (x, y), cv.FONT_HERSHEY_SIMPLEX, 1, (0,255,0), 2)\n",
    "        cv.imshow('image', img)\n",
    "        \n",
    "\n",
    "\n",
    "cv.imshow('image', img) #must have to show initial image\n",
    "cv.setMouseCallback('image', draw_line) #invokes 'draw_line' function with required arguments (i.e: event-type, x & y coordinates and etc)\n",
    "cv.waitKey(0)\n",
    "cv.destroyAllWindows()"
   ]
  },
  {
   "cell_type": "markdown",
   "metadata": {},
   "source": [
    "# Point Following Line"
   ]
  },
  {
   "cell_type": "code",
   "execution_count": 29,
   "metadata": {},
   "outputs": [],
   "source": [
    "img = cv.imread('butterfly.jpg')\n",
    "\n",
    "points = []  \n",
    "def point_following_line (event, x, y, flags, params):\n",
    "    if event == cv.EVENT_LBUTTONDOWN:\n",
    "        cv.circle(img, (x, y), 5, (0,0,255), -1) #to show clicked position\n",
    "        points.append((x, y)) #saving points in a list as tuple (e.g: (20, 30))\n",
    "        cv.imshow('image', img)\n",
    "        if len(points) >= 2: #if 2 or more points then draw line\n",
    "            cv.line(img, points[-2], points[-1], (255,0,0), 3) #draw line using last 2 points\n",
    "            cv.imshow('image', img)\n",
    "\n",
    "         \n",
    "cv.imshow('image', img)\n",
    "cv.setMouseCallback('image', point_following_line)\n",
    "cv.waitKey(0)\n",
    "cv.destroyAllWindows()"
   ]
  }
 ],
 "metadata": {
  "kernelspec": {
   "display_name": "Python 3",
   "language": "python",
   "name": "python3"
  },
  "language_info": {
   "codemirror_mode": {
    "name": "ipython",
    "version": 3
   },
   "file_extension": ".py",
   "mimetype": "text/x-python",
   "name": "python",
   "nbconvert_exporter": "python",
   "pygments_lexer": "ipython3",
   "version": "3.8.1"
  }
 },
 "nbformat": 4,
 "nbformat_minor": 4
}
